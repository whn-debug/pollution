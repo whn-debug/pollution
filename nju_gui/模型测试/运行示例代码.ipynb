{
 "cells": [
  {
   "cell_type": "code",
   "execution_count": 1,
   "id": "e24d4538-ccf8-4133-b387-b1013c3cc4f6",
   "metadata": {},
   "outputs": [
    {
     "name": "stdout",
     "output_type": "stream",
     "text": [
      "✅ 已加载模型: xgb_model_top3_removed.pkl\n",
      "📘 已加载 742 条新样本，用于预测。\n",
      "✅ 预测完成，结果已保存到：predicted_logRF.xlsx\n",
      "   LgRF  MolarRefractivity  MoleculeWeight  MoleculeVolume  H-Acceptors  \\\n",
      "0   NaN             63.337         250.270        0.694644            4   \n",
      "1   NaN             72.801         242.318        0.619612            2   \n",
      "2   NaN             46.522         150.221        0.580304            1   \n",
      "3   NaN             68.168         228.291        0.629219            2   \n",
      "4   NaN             70.114         220.356        0.555418            1   \n",
      "\n",
      "   H-Donor  PolarSurfaceArea  LogP  LogD  Predicted_logRF  \n",
      "0        2                83  1.83  1.80         5.739095  \n",
      "1        2                40  3.96  3.92         6.205288  \n",
      "2        1                20  3.17  3.36         5.173724  \n",
      "3        2                40  3.43  3.63         6.399046  \n",
      "4        1                20  6.19  6.13         6.438850  \n"
     ]
    }
   ],
   "source": [
    "import pandas as pd\n",
    "import joblib\n",
    "import os\n",
    "\n",
    "# === 1) 用户自定义部分 ===\n",
    "model_path = \"xgb_model_top3_removed.pkl\"      # 已训练模型文件\n",
    "input_excel = \"POS预测输入.xlsx\"             # 要预测的新化合物数据表\n",
    "output_excel = \"predicted_logRF.xlsx\"          # 输出结果文件\n",
    "\n",
    "# === 2) 加载模型 ===\n",
    "if not os.path.exists(model_path):\n",
    "    raise FileNotFoundError(f\"❌ 模型文件未找到: {model_path}\")\n",
    "print(f\"✅ 已加载模型: {model_path}\")\n",
    "pipe = joblib.load(model_path)\n",
    "\n",
    "# === 3) 读取要预测的数据 ===\n",
    "df_new = pd.read_excel(input_excel)\n",
    "df_new.columns = [str(c).strip() for c in df_new.columns]\n",
    "\n",
    "print(f\"📘 已加载 {len(df_new)} 条新样本，用于预测。\")\n",
    "\n",
    "# === 4) 预测 logRF ===\n",
    "# 注意：Excel 中应包含与训练集相同的自变量列名与类型\n",
    "y_pred = pipe.predict(df_new)\n",
    "\n",
    "# === 5) 输出结果 ===\n",
    "df_result = df_new.copy()\n",
    "df_result[\"Predicted_logRF\"] = y_pred\n",
    "\n",
    "df_result.to_excel(output_excel, index=False)\n",
    "print(f\"✅ 预测完成，结果已保存到：{output_excel}\")\n",
    "\n",
    "# === 6) 预览前几行结果 ===\n",
    "print(df_result.head())"
   ]
  },
  {
   "cell_type": "code",
   "execution_count": null,
   "id": "9a1f4ca5-b95a-4d15-a51b-c3b634547db3",
   "metadata": {},
   "outputs": [],
   "source": []
  }
 ],
 "metadata": {
  "kernelspec": {
   "display_name": "python311",
   "language": "python",
   "name": "python311"
  },
  "language_info": {
   "codemirror_mode": {
    "name": "ipython",
    "version": 3
   },
   "file_extension": ".py",
   "mimetype": "text/x-python",
   "name": "python",
   "nbconvert_exporter": "python",
   "pygments_lexer": "ipython3",
   "version": "3.11.4"
  }
 },
 "nbformat": 4,
 "nbformat_minor": 5
}
